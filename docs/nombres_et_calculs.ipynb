{
  "cells": [
    {
      "cell_type": "markdown",
      "metadata": {
        "id": "view-in-github",
        "colab_type": "text"
      },
      "source": [
        "<a href=\"https://colab.research.google.com/github/lilabidi/Maths-seconde-Python/blob/main/docs/nombres_et_calculs.ipynb\" target=\"_parent\"><img src=\"https://colab.research.google.com/assets/colab-badge.svg\" alt=\"Open In Colab\"/></a>"
      ]
    },
    {
      "cell_type": "markdown",
      "metadata": {
        "id": "MSEiJIvsXvIF"
      },
      "source": [
        "|Eddy Labidi |  Nombres et calculs  | <img src=\"https://resources.finalsite.net/images/f_auto,q_auto,t_image_size_4/v1600275778/lyceelondres/q3q3xqfrko9gwz1m7f8k/Logo-Lycee.png\" alt=\"logo\" width=\"100\"/>|\n",
        "| :--- |:---:| ---:|\n",
        "| Algo  | Langage Python | Lycée international de Londres  |"
      ]
    },
    {
      "cell_type": "markdown",
      "metadata": {
        "id": "4yGe33xUXvIK"
      },
      "source": [
        "\n",
        "# Nombres et Calculs"
      ]
    },
    {
      "cell_type": "markdown",
      "source": [
        "## Résolution par un programme - Exo 133\n",
        "\n",
        "![Exo](docs/images/exo.gif)"
      ],
      "metadata": {
        "id": "4SunHCzWfrtj"
      }
    },
    {
      "cell_type": "markdown",
      "source": [
        "Résolution de l'équation du premier degré \\(ax + b = cx + d\\)\n",
        "\n",
        "Pour résoudre cette équation, suivez ces étapes :\n",
        "\n",
        "1. **Regroupez les termes similaires :**\n",
        "   - Soustrayez \\(cx\\) des deux côtés de l'équation.\n",
        "   \\[ ax + b - cx = d - cx \\]\n",
        "\n",
        "2. **Simplifiez l'équation :**\n",
        "   - Factorisez le côté gauche si possible.\n",
        "   \\[ x(a - c) + b = d - cx \\]\n",
        "\n",
        "3. **Isoler la variable \\(x\\) :**\n",
        "   - Soustrayez \\(b\\) des deux côtés de l'équation.\n",
        "   \\[ x(a - c) = d - cx - b \\]\n",
        "\n",
        "4. **Divisez par le coefficient de \\(x\\) :**\n",
        "   - Divisez chaque côté par \\((a - c)\\) pour isoler \\(x\\).\n",
        "   \\[ x = \\frac{{d - cx - b}}{{a - c}} \\]\n",
        "\n",
        "C'est la solution de l'équation du premier degré \\(ax + b = cx + d\\)."
      ],
      "metadata": {
        "id": "2YEfNyBnhIX7"
      }
    },
    {
      "cell_type": "markdown",
      "source": [
        "### Solution simple"
      ],
      "metadata": {
        "id": "AfzWUk8oiDc8"
      }
    },
    {
      "cell_type": "code",
      "source": [
        "a = 2\n",
        "b = 3\n",
        "c = 4\n",
        "d = 5\n",
        "\n",
        "x = (b - d)/(a - c)\n",
        "\n",
        "print(x)"
      ],
      "metadata": {
        "id": "VfgqZWE7iFvz"
      },
      "execution_count": null,
      "outputs": []
    }
  ],
  "metadata": {
    "kernelspec": {
      "display_name": "Python 3",
      "language": "python",
      "name": "python3"
    },
    "language_info": {
      "codemirror_mode": {
        "name": "ipython",
        "version": 3
      },
      "file_extension": ".py",
      "mimetype": "text/x-python",
      "name": "python",
      "nbconvert_exporter": "python",
      "pygments_lexer": "ipython3",
      "version": "3.6.9"
    },
    "colab": {
      "provenance": [],
      "toc_visible": true,
      "include_colab_link": true
    }
  },
  "nbformat": 4,
  "nbformat_minor": 0
}